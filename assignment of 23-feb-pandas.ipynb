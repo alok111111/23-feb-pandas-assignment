{
 "cells": [
  {
   "cell_type": "code",
   "execution_count": 1,
   "id": "50d0dce6-c3c1-4142-8452-560341b1b621",
   "metadata": {},
   "outputs": [],
   "source": [
    "#Q1. Create a Pandas Series that contains the following data: 4, 8, 15, 16, 23, and 42. Then, print the series."
   ]
  },
  {
   "cell_type": "code",
   "execution_count": 7,
   "id": "a7336fed-178f-438c-aa1b-f0f11629b56a",
   "metadata": {},
   "outputs": [],
   "source": [
    "import pandas as pd\n"
   ]
  },
  {
   "cell_type": "code",
   "execution_count": 8,
   "id": "39f24f9b-f78e-4e19-8ef7-13e02155cb32",
   "metadata": {},
   "outputs": [],
   "source": [
    "d=pd.Series([4,8,15,16,23,42])\n"
   ]
  },
  {
   "cell_type": "code",
   "execution_count": 9,
   "id": "11276ae3-d0af-470d-a25a-cc192dfc0a5d",
   "metadata": {},
   "outputs": [
    {
     "data": {
      "text/plain": [
       "0     4\n",
       "1     8\n",
       "2    15\n",
       "3    16\n",
       "4    23\n",
       "5    42\n",
       "dtype: int64"
      ]
     },
     "execution_count": 9,
     "metadata": {},
     "output_type": "execute_result"
    }
   ],
   "source": [
    "d"
   ]
  },
  {
   "cell_type": "code",
   "execution_count": 10,
   "id": "a8ed72ad-f807-4361-a9ff-ead6001f1f26",
   "metadata": {},
   "outputs": [],
   "source": [
    "\n",
    "'''Q2. Create a variable of list type containing 10 elements in it, and apply pandas.Series function on the\n",
    "variable print it.'''\n",
    "\n",
    "l1=[]\n"
   ]
  },
  {
   "cell_type": "code",
   "execution_count": 12,
   "id": "e9bd9e9e-7bf0-4498-98d3-7d92e6f31ba2",
   "metadata": {},
   "outputs": [],
   "source": [
    "for i in range(23,34):\n",
    "    l1.append(i)"
   ]
  },
  {
   "cell_type": "code",
   "execution_count": 13,
   "id": "51a16f38-c2e5-4935-afd0-8c9cab2f2fdb",
   "metadata": {},
   "outputs": [
    {
     "data": {
      "text/plain": [
       "[23, 24, 25, 26, 27, 28, 29, 30, 31, 32, 33]"
      ]
     },
     "execution_count": 13,
     "metadata": {},
     "output_type": "execute_result"
    }
   ],
   "source": [
    "l1"
   ]
  },
  {
   "cell_type": "code",
   "execution_count": 17,
   "id": "521204d5-9dc2-4abd-8292-ab59567cd63e",
   "metadata": {},
   "outputs": [],
   "source": [
    "d1=pd.Series(l1)"
   ]
  },
  {
   "cell_type": "code",
   "execution_count": 20,
   "id": "fb0cf81e-1326-47d4-b60b-9dd6b79764ae",
   "metadata": {},
   "outputs": [
    {
     "data": {
      "text/plain": [
       "0     23\n",
       "1     24\n",
       "2     25\n",
       "3     26\n",
       "4     27\n",
       "5     28\n",
       "6     29\n",
       "7     30\n",
       "8     31\n",
       "9     32\n",
       "10    33\n",
       "dtype: int64"
      ]
     },
     "execution_count": 20,
     "metadata": {},
     "output_type": "execute_result"
    }
   ],
   "source": [
    "d1"
   ]
  },
  {
   "cell_type": "code",
   "execution_count": 21,
   "id": "edebe5c3-bce5-4b9d-9b39-48973f30a0fc",
   "metadata": {},
   "outputs": [],
   "source": [
    "#Q3. Create a Pandas DataFrame that contains the following data:\n",
    "\n",
    "#Then, print the DataFrame."
   ]
  },
  {
   "cell_type": "code",
   "execution_count": 23,
   "id": "140306f7-4ecf-4b55-8c2f-9943eac5aa08",
   "metadata": {},
   "outputs": [],
   "source": [
    "d2=pd.DataFrame({\"Name\":['Alice','Bob','Claire'],\"Age\":[25,30,27],\"Gender\":[\"Female\",'Male',\"Female\"]})"
   ]
  },
  {
   "cell_type": "code",
   "execution_count": 24,
   "id": "aa8b7082-5d56-4c5e-8e1b-3e7b2d586d2b",
   "metadata": {},
   "outputs": [
    {
     "data": {
      "text/html": [
       "<div>\n",
       "<style scoped>\n",
       "    .dataframe tbody tr th:only-of-type {\n",
       "        vertical-align: middle;\n",
       "    }\n",
       "\n",
       "    .dataframe tbody tr th {\n",
       "        vertical-align: top;\n",
       "    }\n",
       "\n",
       "    .dataframe thead th {\n",
       "        text-align: right;\n",
       "    }\n",
       "</style>\n",
       "<table border=\"1\" class=\"dataframe\">\n",
       "  <thead>\n",
       "    <tr style=\"text-align: right;\">\n",
       "      <th></th>\n",
       "      <th>Name</th>\n",
       "      <th>Age</th>\n",
       "      <th>Gender</th>\n",
       "    </tr>\n",
       "  </thead>\n",
       "  <tbody>\n",
       "    <tr>\n",
       "      <th>0</th>\n",
       "      <td>Alice</td>\n",
       "      <td>25</td>\n",
       "      <td>Female</td>\n",
       "    </tr>\n",
       "    <tr>\n",
       "      <th>1</th>\n",
       "      <td>Bob</td>\n",
       "      <td>30</td>\n",
       "      <td>Male</td>\n",
       "    </tr>\n",
       "    <tr>\n",
       "      <th>2</th>\n",
       "      <td>Claire</td>\n",
       "      <td>27</td>\n",
       "      <td>Female</td>\n",
       "    </tr>\n",
       "  </tbody>\n",
       "</table>\n",
       "</div>"
      ],
      "text/plain": [
       "     Name  Age  Gender\n",
       "0   Alice   25  Female\n",
       "1     Bob   30    Male\n",
       "2  Claire   27  Female"
      ]
     },
     "execution_count": 24,
     "metadata": {},
     "output_type": "execute_result"
    }
   ],
   "source": [
    "d2"
   ]
  },
  {
   "cell_type": "code",
   "execution_count": 26,
   "id": "58839f55-30e0-4749-93fe-d641397ac5af",
   "metadata": {},
   "outputs": [
    {
     "data": {
      "text/plain": [
       "'structure that organizes data into a 2-dimensional table of rows and columns, much like a spreadsheet.\\nDataFrames are one of the most common data structures used in modern data analytics because they are a\\nflexible and intuitive way of storing and working with data.\\n\\n\\n\\nA Pandas Series is like a column in a table. It is a one-dimensional array holding data of any type.'"
      ]
     },
     "execution_count": 26,
     "metadata": {},
     "output_type": "execute_result"
    }
   ],
   "source": [
    "#Q4. What is ‘DataFrame’ in pandas and how is it different from pandas.series? Explain with an example.\n",
    "\n",
    "\n",
    "'''structure that organizes data into a 2-dimensional table of rows and columns, much like a spreadsheet.\n",
    "DataFrames are one of the most common data structures used in modern data analytics because they are a\n",
    "flexible and intuitive way of storing and working with data.\n",
    "\n",
    "\n",
    "\n",
    "A Pandas Series is like a column in a table. It is a one-dimensional array holding data of any type.'''\n",
    "\n",
    "\n"
   ]
  },
  {
   "cell_type": "code",
   "execution_count": 28,
   "id": "2dbd1a7b-532a-4429-b0d7-47816f7968d5",
   "metadata": {},
   "outputs": [],
   "source": [
    "#Example of Data-Frame\n",
    "d3=pd.DataFrame({'a':[1,2,3,4],'b':[3,5,4,2]})\n",
    "#Example of Series\n",
    "d4=pd.Series([5,6,7,8,8])\n"
   ]
  },
  {
   "cell_type": "code",
   "execution_count": 29,
   "id": "4f773645-561d-434d-8165-02668f1d5a26",
   "metadata": {},
   "outputs": [
    {
     "data": {
      "text/html": [
       "<div>\n",
       "<style scoped>\n",
       "    .dataframe tbody tr th:only-of-type {\n",
       "        vertical-align: middle;\n",
       "    }\n",
       "\n",
       "    .dataframe tbody tr th {\n",
       "        vertical-align: top;\n",
       "    }\n",
       "\n",
       "    .dataframe thead th {\n",
       "        text-align: right;\n",
       "    }\n",
       "</style>\n",
       "<table border=\"1\" class=\"dataframe\">\n",
       "  <thead>\n",
       "    <tr style=\"text-align: right;\">\n",
       "      <th></th>\n",
       "      <th>a</th>\n",
       "      <th>b</th>\n",
       "    </tr>\n",
       "  </thead>\n",
       "  <tbody>\n",
       "    <tr>\n",
       "      <th>0</th>\n",
       "      <td>1</td>\n",
       "      <td>3</td>\n",
       "    </tr>\n",
       "    <tr>\n",
       "      <th>1</th>\n",
       "      <td>2</td>\n",
       "      <td>5</td>\n",
       "    </tr>\n",
       "    <tr>\n",
       "      <th>2</th>\n",
       "      <td>3</td>\n",
       "      <td>4</td>\n",
       "    </tr>\n",
       "    <tr>\n",
       "      <th>3</th>\n",
       "      <td>4</td>\n",
       "      <td>2</td>\n",
       "    </tr>\n",
       "  </tbody>\n",
       "</table>\n",
       "</div>"
      ],
      "text/plain": [
       "   a  b\n",
       "0  1  3\n",
       "1  2  5\n",
       "2  3  4\n",
       "3  4  2"
      ]
     },
     "execution_count": 29,
     "metadata": {},
     "output_type": "execute_result"
    }
   ],
   "source": [
    "d3"
   ]
  },
  {
   "cell_type": "code",
   "execution_count": 30,
   "id": "516229d5-46e3-4585-b1f7-0b04d7776661",
   "metadata": {},
   "outputs": [
    {
     "data": {
      "text/plain": [
       "0    5\n",
       "1    6\n",
       "2    7\n",
       "3    8\n",
       "4    8\n",
       "dtype: int64"
      ]
     },
     "execution_count": 30,
     "metadata": {},
     "output_type": "execute_result"
    }
   ],
   "source": [
    "d4"
   ]
  },
  {
   "cell_type": "markdown",
   "id": "dd6b5c3a-f21f-466d-997a-e457160e07de",
   "metadata": {},
   "source": [
    "#Q5. What are some common functions you can use to manipulate data in a Pandas DataFrame? Can\n",
    "#you give an example of when you might use one of these functions?\n",
    "\n",
    "\n",
    "'''It is one of the commonly used Pandas functions for manipulating a pandas dataframe and creating new variables.\n",
    "Pandas Apply function returns some value after passing each row/column of a data frame with some function. \n",
    "The function can be both default or user-defined.'''\n",
    "\n"
   ]
  },
  {
   "cell_type": "code",
   "execution_count": 6,
   "id": "44c9b7f0-1782-41f2-90e1-f6535b4dc5fb",
   "metadata": {},
   "outputs": [],
   "source": [
    "import pandas as pd"
   ]
  },
  {
   "cell_type": "code",
   "execution_count": 7,
   "id": "3f2bc631-070a-4826-9780-474b817a6737",
   "metadata": {},
   "outputs": [],
   "source": [
    "d4=pd.DataFrame({'a':[33,2,3,4],'b':[4,5,6,7]})"
   ]
  },
  {
   "cell_type": "code",
   "execution_count": 9,
   "id": "b2547120-1506-48e4-b8fd-f05e9fcc8907",
   "metadata": {},
   "outputs": [
    {
     "data": {
      "text/html": [
       "<div>\n",
       "<style scoped>\n",
       "    .dataframe tbody tr th:only-of-type {\n",
       "        vertical-align: middle;\n",
       "    }\n",
       "\n",
       "    .dataframe tbody tr th {\n",
       "        vertical-align: top;\n",
       "    }\n",
       "\n",
       "    .dataframe thead th {\n",
       "        text-align: right;\n",
       "    }\n",
       "</style>\n",
       "<table border=\"1\" class=\"dataframe\">\n",
       "  <thead>\n",
       "    <tr style=\"text-align: right;\">\n",
       "      <th></th>\n",
       "      <th>a</th>\n",
       "      <th>b</th>\n",
       "    </tr>\n",
       "  </thead>\n",
       "  <tbody>\n",
       "    <tr>\n",
       "      <th>0</th>\n",
       "      <td>33</td>\n",
       "      <td>4</td>\n",
       "    </tr>\n",
       "    <tr>\n",
       "      <th>1</th>\n",
       "      <td>2</td>\n",
       "      <td>5</td>\n",
       "    </tr>\n",
       "    <tr>\n",
       "      <th>2</th>\n",
       "      <td>3</td>\n",
       "      <td>6</td>\n",
       "    </tr>\n",
       "    <tr>\n",
       "      <th>3</th>\n",
       "      <td>4</td>\n",
       "      <td>7</td>\n",
       "    </tr>\n",
       "  </tbody>\n",
       "</table>\n",
       "</div>"
      ],
      "text/plain": [
       "    a  b\n",
       "0  33  4\n",
       "1   2  5\n",
       "2   3  6\n",
       "3   4  7"
      ]
     },
     "execution_count": 9,
     "metadata": {},
     "output_type": "execute_result"
    }
   ],
   "source": [
    "d4"
   ]
  },
  {
   "cell_type": "markdown",
   "id": "7a8f13f8-3475-497f-a948-f5e4a50cb30e",
   "metadata": {},
   "source": [
    "Q6. Which of the following is mutable in nature Series, DataFrame, Panel?\n",
    "\n",
    "\n",
    "Ans:-\n",
    "\n",
    "List is mutable and Tuple is immutable. A mutable data type means that a python object of this type can be modified."
   ]
  },
  {
   "cell_type": "markdown",
   "id": "44e85255-e053-4e41-92cd-93a11bac9d2f",
   "metadata": {},
   "source": [
    "Q7. Create a DataFrame using multiple Series. Explain with an example.\n",
    "\n",
    "Ans:-\n",
    "\n",
    "You can create a DataFrame from multiple Series objects by adding each series as a columns. By using concat() method you can merge multiple series together into DataFrame. This takes several params, for our scenario we use list that takes series to combine and axis=1 to specify merge series as columns instead of rows.\n"
   ]
  },
  {
   "cell_type": "markdown",
   "id": "c6caf5c7-7448-47b5-8e14-82497dc5a23b",
   "metadata": {},
   "source": [
    "##Example"
   ]
  },
  {
   "cell_type": "code",
   "execution_count": 11,
   "id": "7351ef23-b533-44ca-8bb5-7197e128d8de",
   "metadata": {},
   "outputs": [],
   "source": [
    "l1=['B.C.A','M.C.A','B.E']"
   ]
  },
  {
   "cell_type": "code",
   "execution_count": 12,
   "id": "b3cd6495-936e-4329-841a-f95d2efa1ab4",
   "metadata": {},
   "outputs": [],
   "source": [
    "l2=[60000,50000,80000]"
   ]
  },
  {
   "cell_type": "code",
   "execution_count": 13,
   "id": "529a6a44-e8f5-440e-97d5-21ef98c2b96b",
   "metadata": {},
   "outputs": [],
   "source": [
    "l3=[10000,15000,25000]"
   ]
  },
  {
   "cell_type": "code",
   "execution_count": 14,
   "id": "1fe78664-4fc5-4ff7-9197-9e928cbe7c24",
   "metadata": {},
   "outputs": [],
   "source": [
    "course=pd.Series(l1)"
   ]
  },
  {
   "cell_type": "code",
   "execution_count": 15,
   "id": "d07df34c-6ea1-4797-9de1-0a11b4a6bb89",
   "metadata": {},
   "outputs": [],
   "source": [
    "fee=pd.Series(l2)"
   ]
  },
  {
   "cell_type": "code",
   "execution_count": 16,
   "id": "1fa20fcf-ede4-4d10-80df-a38481203be1",
   "metadata": {},
   "outputs": [],
   "source": [
    "discount=pd.Series(l3)"
   ]
  },
  {
   "cell_type": "code",
   "execution_count": 27,
   "id": "b33024c9-c17b-4e52-b611-3376f461986e",
   "metadata": {},
   "outputs": [],
   "source": [
    "df5=pd.concat([course,fee,discount],axis=1)"
   ]
  },
  {
   "cell_type": "code",
   "execution_count": 25,
   "id": "c96d726e-8866-4237-8f10-53d144a7ca1a",
   "metadata": {},
   "outputs": [
    {
     "data": {
      "text/plain": [
       "0    B.C.A\n",
       "1    M.C.A\n",
       "2      B.E\n",
       "0    60000\n",
       "1    50000\n",
       "2    80000\n",
       "0    10000\n",
       "1    15000\n",
       "2    25000\n",
       "dtype: object"
      ]
     },
     "execution_count": 25,
     "metadata": {},
     "output_type": "execute_result"
    }
   ],
   "source": [
    "df5"
   ]
  },
  {
   "cell_type": "code",
   "execution_count": 28,
   "id": "7cc77228-3a4a-4a47-ab7c-f3bd652bd2e7",
   "metadata": {},
   "outputs": [
    {
     "data": {
      "text/html": [
       "<div>\n",
       "<style scoped>\n",
       "    .dataframe tbody tr th:only-of-type {\n",
       "        vertical-align: middle;\n",
       "    }\n",
       "\n",
       "    .dataframe tbody tr th {\n",
       "        vertical-align: top;\n",
       "    }\n",
       "\n",
       "    .dataframe thead th {\n",
       "        text-align: right;\n",
       "    }\n",
       "</style>\n",
       "<table border=\"1\" class=\"dataframe\">\n",
       "  <thead>\n",
       "    <tr style=\"text-align: right;\">\n",
       "      <th></th>\n",
       "      <th>0</th>\n",
       "      <th>1</th>\n",
       "      <th>2</th>\n",
       "    </tr>\n",
       "  </thead>\n",
       "  <tbody>\n",
       "    <tr>\n",
       "      <th>0</th>\n",
       "      <td>B.C.A</td>\n",
       "      <td>60000</td>\n",
       "      <td>10000</td>\n",
       "    </tr>\n",
       "    <tr>\n",
       "      <th>1</th>\n",
       "      <td>M.C.A</td>\n",
       "      <td>50000</td>\n",
       "      <td>15000</td>\n",
       "    </tr>\n",
       "    <tr>\n",
       "      <th>2</th>\n",
       "      <td>B.E</td>\n",
       "      <td>80000</td>\n",
       "      <td>25000</td>\n",
       "    </tr>\n",
       "  </tbody>\n",
       "</table>\n",
       "</div>"
      ],
      "text/plain": [
       "       0      1      2\n",
       "0  B.C.A  60000  10000\n",
       "1  M.C.A  50000  15000\n",
       "2    B.E  80000  25000"
      ]
     },
     "execution_count": 28,
     "metadata": {},
     "output_type": "execute_result"
    }
   ],
   "source": [
    "df5"
   ]
  },
  {
   "cell_type": "code",
   "execution_count": null,
   "id": "cc105663-b83b-4220-a1b9-04a76031beb4",
   "metadata": {},
   "outputs": [],
   "source": []
  }
 ],
 "metadata": {
  "kernelspec": {
   "display_name": "Python 3 (ipykernel)",
   "language": "python",
   "name": "python3"
  },
  "language_info": {
   "codemirror_mode": {
    "name": "ipython",
    "version": 3
   },
   "file_extension": ".py",
   "mimetype": "text/x-python",
   "name": "python",
   "nbconvert_exporter": "python",
   "pygments_lexer": "ipython3",
   "version": "3.10.8"
  }
 },
 "nbformat": 4,
 "nbformat_minor": 5
}
